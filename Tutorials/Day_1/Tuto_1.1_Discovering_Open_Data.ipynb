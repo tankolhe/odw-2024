{
 "cells": [
  {
   "cell_type": "markdown",
   "metadata": {
    "Collapsed": "false",
    "colab_type": "text",
    "id": "R_adEak0Q8NT"
   },
   "source": [
    "<span style=\"float: left;padding: 1.3em\">![logo](../logo.png)</span>\n",
    "\n",
    "#  Gravitational Wave Open Data Workshop #7\n",
    "\n",
    "\n",
    "#### Tutorial 1.1: Discovering open data from GW observatories\n",
    "\n",
    "This notebook describes how to discover what data are available from the [Gravitational-Wave Open Science Center (GWOSC)](https://www.gw-openscience.org).\n",
    "    \n",
    "[Click this link to view this tutorial in Google Colaboratory](https://colab.research.google.com/github/gw-odw/odw-2024/blob/main/Tutorials/Day_1/Tuto_1.1_Discovering_Open_Data.ipynb)"
   ]
  },
  {
   "cell_type": "markdown",
   "metadata": {
    "Collapsed": "false",
    "colab_type": "text",
    "id": "W6msjCJVQ8NV"
   },
   "source": [
    "## Software installation  (execute only if running on a cloud platform or haven't done the installation yet!)\n",
    "\n",
    "First, we need to install the software, which we do following the instruction in [Software Setup Instructions](../../setup.md):"
   ]
  },
  {
   "cell_type": "code",
   "execution_count": 2,
   "metadata": {},
   "outputs": [
    {
     "name": "stderr",
     "output_type": "stream",
     "text": [
      "ERROR: Invalid requirement: \"'gwosc==0.7.1'\"\n"
     ]
    }
   ],
   "source": [
    "# -- Uncomment following line if running in Google Colab\n",
    "! pip install -q 'gwosc==0.7.1'"
   ]
  },
  {
   "cell_type": "code",
   "execution_count": 3,
   "metadata": {},
   "outputs": [
    {
     "name": "stdout",
     "output_type": "stream",
     "text": [
      "0.7.1\n"
     ]
    }
   ],
   "source": [
    "#check the version of the package gwosc you are using\n",
    "import gwosc\n",
    "print(gwosc.__version__)"
   ]
  },
  {
   "cell_type": "markdown",
   "metadata": {},
   "source": [
    "The version you get should be 0.7.1. If it's not, check that you have followed all the steps in [Software Setup Instructions](../../setup.md)."
   ]
  },
  {
   "cell_type": "markdown",
   "metadata": {
    "Collapsed": "false",
    "colab_type": "text",
    "id": "F3tmmQ-hQ8Nu"
   },
   "source": [
    "## Querying for event information\n",
    "\n",
    "The module `gwosc.datasets` provides tools for searching for datasets, including events, catalogs and full run strain data releases.\n",
    "\n",
    "\n",
    "For example, we can search for events in the [GWTC-1 catalog](https://www.gw-openscience.org/eventapi/html/GWTC-1-confident/), the catalog of all events from the O1 and O2 observing runs. A list of available catalogs can be seen in the [Event Portal](https://gw-openscience.org/eventapi)"
   ]
  },
  {
   "cell_type": "code",
   "execution_count": 16,
   "metadata": {},
   "outputs": [
    {
     "name": "stdout",
     "output_type": "stream",
     "text": [
      "List of available catalogs\n",
      "['GWTC', 'GWTC-1-confident', 'GWTC-1-marginal', 'GWTC-2', 'GWTC-2.1-auxiliary', 'GWTC-2.1-confident', 'GWTC-2.1-marginal', 'GWTC-3-confident', 'GWTC-3-marginal', 'Initial_LIGO_Virgo', 'O1_O2-Preliminary', 'O3_Discovery_Papers', 'O3_IMBH_marginal', 'O4_Discovery_Papers']\n"
     ]
    }
   ],
   "source": [
    "from gwosc.datasets import find_datasets\n",
    "from gwosc import datasets\n",
    "\n",
    "#-- List all available catalogs\n",
    "print(\"List of available catalogs\")\n",
    "print(find_datasets(type=\"catalog\"))"
   ]
  },
  {
   "cell_type": "code",
   "execution_count": 5,
   "metadata": {},
   "outputs": [
    {
     "name": "stdout",
     "output_type": "stream",
     "text": [
      "GWTC-1 events: ['GW150914-v3', 'GW151012-v3', 'GW151226-v2', 'GW170104-v2', 'GW170608-v3', 'GW170729-v1', 'GW170809-v1', 'GW170814-v3', 'GW170817-v3', 'GW170818-v1', 'GW170823-v1']\n",
      "\n"
     ]
    }
   ],
   "source": [
    "#-- Print all the GW events from the GWTC-1 catalog\n",
    "gwtc1 = datasets.find_datasets(type='events', catalog='GWTC-1-confident')\n",
    "print('GWTC-1 events:', gwtc1)\n",
    "print(\"\")"
   ]
  },
  {
   "cell_type": "markdown",
   "metadata": {},
   "source": [
    "Note that the event name is of the type _GWyymmdd-vx_ where _x_ is the last available version for the data set provided by GWOSC."
   ]
  },
  {
   "cell_type": "code",
   "execution_count": 6,
   "metadata": {},
   "outputs": [
    {
     "name": "stdout",
     "output_type": "stream",
     "text": [
      "Large data sets: ['BKGW170608_16KHZ_R1', 'O1', 'O1_16KHZ', 'O2_16KHZ_R1', 'O2_4KHZ_R1', 'O3GK_16KHZ_R1', 'O3GK_4KHZ_R1', 'O3a_16KHZ_R1', 'O3a_4KHZ_R1', 'O3b_16KHZ_R1', 'O3b_4KHZ_R1', 'S5', 'S6']\n"
     ]
    }
   ],
   "source": [
    "#-- Print all the large strain data sets from LIGO/Virgo/KAGRA observing runs\n",
    "runs = find_datasets(type='run')\n",
    "print('Large data sets:', runs)"
   ]
  },
  {
   "cell_type": "markdown",
   "metadata": {},
   "source": [
    "_Attention: Note that the most recent observation runs, e.g. O2, are labeled with names containing the name of the run (e.g. O2), the sampling rate (4 or 16 kHz) and the release version (e.g. R1). This means that for O2 you have two labels 'O2_4KHZ_R1' and 'O2_16KHZ_R1', depending which is the desired sampling rate_"
   ]
  },
  {
   "cell_type": "markdown",
   "metadata": {
    "Collapsed": "false",
    "colab_type": "text",
    "id": "D9_tRXpMQ8N8"
   },
   "source": [
    "`datasets.find_datasets` also accepts a `segment` and `detector` keyword to narrow results based on GPS time and detector:"
   ]
  },
  {
   "cell_type": "code",
   "execution_count": 7,
   "metadata": {
    "Collapsed": "false",
    "colab": {
     "base_uri": "https://localhost:8080/",
     "height": 55
    },
    "colab_type": "code",
    "id": "XZTniqwHQ8N-",
    "outputId": "11adc70a-9cc0-4a38-b45e-45746571da00"
   },
   "outputs": [
    {
     "name": "stdout",
     "output_type": "stream",
     "text": [
      "['GW170104-v2', 'GW170608-v3', 'GW170729-v1', 'GW170809-v1', 'GW170814-v3', 'GW170817-v3', 'GW170818-v1', 'GW170823-v1']\n"
     ]
    }
   ],
   "source": [
    "#-- Detector and segments keywords limit search result\n",
    "print(datasets.find_datasets(type='events', catalog='GWTC-1-confident', detector=\"L1\", segment=(1164556817, 1187733618)))"
   ]
  },
  {
   "cell_type": "markdown",
   "metadata": {
    "Collapsed": "false",
    "colab_type": "text",
    "id": "7pnAItOJQ8OC"
   },
   "source": [
    "Using `gwosc.datasets.event_gps`, we can query for the GPS time of a specific event (it works also without the version number):"
   ]
  },
  {
   "cell_type": "code",
   "execution_count": 8,
   "metadata": {
    "Collapsed": "false",
    "colab": {
     "base_uri": "https://localhost:8080/",
     "height": 35
    },
    "colab_type": "code",
    "id": "tdr8c15_Q8OD",
    "outputId": "d0c58186-4197-459b-e67c-3dfc3db64bbd"
   },
   "outputs": [
    {
     "name": "stdout",
     "output_type": "stream",
     "text": [
      "1240215503.0\n"
     ]
    }
   ],
   "source": [
    "from gwosc.datasets import event_gps\n",
    "gps = event_gps('GW190425')\n",
    "print(gps)"
   ]
  },
  {
   "cell_type": "markdown",
   "metadata": {
    "Collapsed": "false",
    "colab_type": "text",
    "id": "hKvQhYAOQ8OG"
   },
   "source": [
    "<div class=\"alert alert-info\">All of these times are returned in the GPS time system, which counts the number of seconds that have elapsed since the start of the GPS epoch at midnight (00:00) on January 6th 1980. GWOSC provides a <a href=\"https://www.gw-openscience.org/gps/\">GPS time converter</a> you can use to translate into datetime, or you can use <a href=\"https://gwpy.github.io/docs/stable/time/\"><code>gwpy.time</code></a>.</div>"
   ]
  },
  {
   "cell_type": "code",
   "execution_count": 9,
   "metadata": {},
   "outputs": [
    {
     "name": "stdout",
     "output_type": "stream",
     "text": [
      "GW190425\n"
     ]
    }
   ],
   "source": [
    "# You can do also the vice-versa\n",
    "from gwosc.datasets import event_at_gps\n",
    "print(datasets.event_at_gps(1240215503))"
   ]
  },
  {
   "cell_type": "markdown",
   "metadata": {},
   "source": [
    "Note that the method `event_at_gps` looks for events found within 1 seconds of the given GPS time. If no events is found it will give an error."
   ]
  },
  {
   "cell_type": "markdown",
   "metadata": {
    "Collapsed": "false",
    "colab_type": "text",
    "id": "RXVyJsDDQ8OH"
   },
   "source": [
    "We can query for the GPS time interval for an observing run:"
   ]
  },
  {
   "cell_type": "code",
   "execution_count": 10,
   "metadata": {
    "Collapsed": "false",
    "colab": {
     "base_uri": "https://localhost:8080/",
     "height": 35
    },
    "colab_type": "code",
    "id": "QYsQSPNJQ8OK",
    "outputId": "0415258a-cad5-4779-85d2-595ca9c20ce1"
   },
   "outputs": [
    {
     "name": "stdout",
     "output_type": "stream",
     "text": [
      "(1126051217, 1137254417)\n"
     ]
    }
   ],
   "source": [
    "from gwosc.datasets import run_segment\n",
    "print(run_segment('O1'))"
   ]
  },
  {
   "cell_type": "code",
   "execution_count": 11,
   "metadata": {},
   "outputs": [
    {
     "name": "stdout",
     "output_type": "stream",
     "text": [
      "O3a_4KHZ_R1\n"
     ]
    }
   ],
   "source": [
    "# and vice-versa also in this case\n",
    "from gwosc.datasets import run_at_gps\n",
    "print(run_at_gps(1240215503))"
   ]
  },
  {
   "cell_type": "markdown",
   "metadata": {},
   "source": [
    "Now we can use what we have learned with `run_segment` and `find_datasets` to see only the confident events in O1:"
   ]
  },
  {
   "cell_type": "code",
   "execution_count": 12,
   "metadata": {},
   "outputs": [
    {
     "name": "stdout",
     "output_type": "stream",
     "text": [
      "['GW150914-v3', 'GW151012-v3', 'GW151226-v2']\n"
     ]
    }
   ],
   "source": [
    "O1_events = datasets.find_datasets(type='events', catalog='GWTC-1-confident', segment=run_segment('O1'))\n",
    "print(O1_events)"
   ]
  },
  {
   "cell_type": "markdown",
   "metadata": {
    "Collapsed": "false",
    "colab_type": "text",
    "id": "ACFu7w4_Q8OO"
   },
   "source": [
    "## Querying for data files\n",
    "\n",
    "The `gwosc.locate` module provides a function to find the URLs of data files associated with a given dataset.\n",
    "\n",
    "For event datasets, one can get the list of URLs using only the event name:"
   ]
  },
  {
   "cell_type": "code",
   "execution_count": 13,
   "metadata": {
    "Collapsed": "false",
    "colab": {
     "base_uri": "https://localhost:8080/",
     "height": 55
    },
    "colab_type": "code",
    "id": "uMb1bsBNQ8OQ",
    "outputId": "ca3f6a31-5adf-45e5-c86d-e8a4696914d5"
   },
   "outputs": [
    {
     "name": "stdout",
     "output_type": "stream",
     "text": [
      "['http://gwosc.org/eventapi/json/GWTC-1-confident/GW150914/v3/H-H1_GWOSC_4KHZ_R1-1126259447-32.hdf5', 'http://gwosc.org/eventapi/json/GWTC-1-confident/GW150914/v3/H-H1_GWOSC_4KHZ_R1-1126257415-4096.hdf5', 'http://gwosc.org/eventapi/json/GWTC-1-confident/GW150914/v3/L-L1_GWOSC_4KHZ_R1-1126259447-32.hdf5', 'http://gwosc.org/eventapi/json/GWTC-1-confident/GW150914/v3/L-L1_GWOSC_4KHZ_R1-1126257415-4096.hdf5']\n"
     ]
    }
   ],
   "source": [
    "from gwosc.locate import get_event_urls\n",
    "urls = get_event_urls('GW150914')\n",
    "print(urls)"
   ]
  },
  {
   "cell_type": "markdown",
   "metadata": {
    "Collapsed": "false",
    "colab_type": "text",
    "id": "19XV79-XQ8OV"
   },
   "source": [
    "By default, this function returns all of the files associated with a given event, which isn't particularly helpful. However, we can filter on any of these by using keyword arguments, for example to get the URL for the 32-second file for the LIGO-Livingston detector:"
   ]
  },
  {
   "cell_type": "code",
   "execution_count": 14,
   "metadata": {
    "Collapsed": "false",
    "colab": {
     "base_uri": "https://localhost:8080/",
     "height": 35
    },
    "colab_type": "code",
    "id": "H7MfuRbPQ8OW",
    "outputId": "2fc89919-72db-4bdb-bd4b-e073703cb62a"
   },
   "outputs": [
    {
     "name": "stdout",
     "output_type": "stream",
     "text": [
      "['http://gwosc.org/eventapi/json/GWTC-1-confident/GW150914/v3/L-L1_GWOSC_4KHZ_R1-1126259447-32.hdf5']\n"
     ]
    }
   ],
   "source": [
    "urls = get_event_urls('GW150914', duration=32, detector='L1')\n",
    "print(urls)"
   ]
  },
  {
   "cell_type": "markdown",
   "metadata": {},
   "source": [
    "##  Query filtered by merger parameters\n",
    "The `query_events` module of `gwosc.datasets` allows to get a list of events filtered by some parameters, similar to what is done by the `Query` function of the [event portal](https://www.gw-openscience.org/eventapi/html/query/). A list of available parameters can be found [here](https://gwosc.readthedocs.io/en/stable/reference/gwosc.datasets.query_events.html) or using `query_events?`. \n",
    "\n",
    "Let's see how to use this module to find which events have been detected with a network signal to noise ratio (SNR) between 25 and 30:"
   ]
  },
  {
   "cell_type": "code",
   "execution_count": 15,
   "metadata": {},
   "outputs": [
    {
     "name": "stdout",
     "output_type": "stream",
     "text": [
      "['GW200129_065458-v1', 'GW190814-v1', 'GW190814_211039-v3', 'GW190521_074359-v2', 'GW150914-v3']\n"
     ]
    }
   ],
   "source": [
    "from gwosc.datasets import query_events\n",
    "selection = query_events(select=[\"25 <= network-matched-filter-snr <= 30\"])\n",
    "#this is equivalent to \n",
    "#query_events(select=[\"network-matched-filter-snr <= 30\", \"network-matched-filter-snr>= 25\"])\n",
    "print(selection)"
   ]
  },
  {
   "cell_type": "markdown",
   "metadata": {},
   "source": [
    "Note that this module will give the list of **all available versions** for all the events that have the required parameters. For example, in this query the event GW190814 is listed twice because 2 versions of that event satisfy the request of SNR between 25 and 30."
   ]
  },
  {
   "cell_type": "markdown",
   "metadata": {
    "Collapsed": "false",
    "colab_type": "text",
    "id": "r_YLBpR0Q8Oe"
   },
   "source": [
    "# Exercises\n",
    "\n",
    "Now that you've seen examples of how to query for dataset information using the `gwosc` package, please try and complete the following exercices using that interface:\n",
    "\n",
    "- How many months did O2 last? (Hint: check the output of _find_datasets(type='run')_ to find the correct label to use)\n",
    "- How many GWTC-3-confident events were detected during O3b?\n",
    "- How many events have been detected with a network signal to noise ratio (SNR) >= 30? "
   ]
  },
  {
   "cell_type": "code",
   "execution_count": 17,
   "metadata": {},
   "outputs": [
    {
     "name": "stdout",
     "output_type": "stream",
     "text": [
      "GWTC-2 events: ['GW190408_181802-v1', 'GW190412-v3', 'GW190413_052954-v1', 'GW190413_134308-v1', 'GW190421_213856-v1', 'GW190424_180648-v1', 'GW190425-v2', 'GW190426_152155-v1', 'GW190503_185404-v1', 'GW190512_180714-v1', 'GW190513_205428-v1', 'GW190514_065416-v1', 'GW190517_055101-v1', 'GW190519_153544-v1', 'GW190521-v3', 'GW190521_074359-v1', 'GW190527_092055-v1', 'GW190602_175927-v1', 'GW190620_030421-v1', 'GW190630_185205-v1', 'GW190701_203306-v1', 'GW190706_222641-v1', 'GW190707_093326-v1', 'GW190708_232457-v1', 'GW190719_215514-v1', 'GW190720_000836-v1', 'GW190727_060333-v1', 'GW190728_064510-v1', 'GW190731_140936-v1', 'GW190803_022701-v1', 'GW190814-v2', 'GW190828_063405-v1', 'GW190828_065509-v1', 'GW190909_114149-v1', 'GW190910_112807-v1', 'GW190915_235702-v1', 'GW190924_021846-v1', 'GW190929_012149-v1', 'GW190930_133541-v1']\n",
      "\n"
     ]
    }
   ],
   "source": [
    "gwtc2 = datasets.find_datasets(type='events', catalog='GWTC-2')\n",
    "print('GWTC-2 events:', gwtc2)\n",
    "print(\"\")"
   ]
  },
  {
   "cell_type": "code",
   "execution_count": 18,
   "metadata": {},
   "outputs": [
    {
     "name": "stdout",
     "output_type": "stream",
     "text": [
      "(1164556817, 1187733618)\n"
     ]
    }
   ],
   "source": [
    "from gwosc.datasets import run_segment\n",
    "print(run_segment('O2_16KHZ_R1'))"
   ]
  },
  {
   "cell_type": "code",
   "execution_count": 21,
   "metadata": {},
   "outputs": [
    {
     "name": "stdout",
     "output_type": "stream",
     "text": [
      "23176801\n"
     ]
    }
   ],
   "source": [
    "print((1187733618 - 1164556817))"
   ]
  },
  {
   "cell_type": "code",
   "execution_count": 22,
   "metadata": {},
   "outputs": [
    {
     "name": "stdout",
     "output_type": "stream",
     "text": [
      "['GW191103_012549-v1', 'GW191105_143521-v1', 'GW191109_010717-v1', 'GW191113_071753-v1', 'GW191126_115259-v1', 'GW191127_050227-v1', 'GW191129_134029-v1', 'GW191204_110529-v1', 'GW191204_171526-v1', 'GW191215_223052-v1', 'GW191216_213338-v1', 'GW191219_163120-v1', 'GW191222_033537-v1', 'GW191230_180458-v1', 'GW200112_155838-v1', 'GW200115_042309-v2', 'GW200128_022011-v1', 'GW200129_065458-v1', 'GW200202_154313-v1', 'GW200208_130117-v1', 'GW200208_222617-v1', 'GW200209_085452-v1', 'GW200210_092254-v1', 'GW200216_220804-v1', 'GW200219_094415-v1', 'GW200220_061928-v1', 'GW200220_124850-v1', 'GW200224_222234-v1', 'GW200225_060421-v1', 'GW200302_015811-v1', 'GW200306_093714-v1', 'GW200308_173609-v1', 'GW200311_115853-v1', 'GW200316_215756-v1', 'GW200322_091133-v1']\n"
     ]
    }
   ],
   "source": [
    "O3b_events = datasets.find_datasets(type='events', catalog='GWTC-3-confident', segment=run_segment('O3b_16KHZ_R1'))\n",
    "print(O3b_events)"
   ]
  },
  {
   "cell_type": "code",
   "execution_count": 24,
   "metadata": {},
   "outputs": [
    {
     "name": "stdout",
     "output_type": "stream",
     "text": [
      "35\n"
     ]
    }
   ],
   "source": [
    "print(len(O3b_events))"
   ]
  },
  {
   "cell_type": "code",
   "execution_count": 23,
   "metadata": {},
   "outputs": [
    {
     "name": "stdout",
     "output_type": "stream",
     "text": [
      "['GW191103_012549-v1', 'GW191105_143521-v1', 'GW191109_010717-v1', 'GW191113_071753-v1', 'GW191126_115259-v1', 'GW191127_050227-v1', 'GW191129_134029-v1', 'GW191204_110529-v1', 'GW191204_171526-v1', 'GW191215_223052-v1', 'GW191216_213338-v1', 'GW191219_163120-v1', 'GW191222_033537-v1', 'GW191230_180458-v1', 'GW200112_155838-v1', 'GW200115_042309-v2', 'GW200128_022011-v1', 'GW200129_065458-v1', 'GW200202_154313-v1', 'GW200208_130117-v1', 'GW200208_222617-v1', 'GW200209_085452-v1', 'GW200210_092254-v1', 'GW200216_220804-v1', 'GW200219_094415-v1', 'GW200220_061928-v1', 'GW200220_124850-v1', 'GW200224_222234-v1', 'GW200225_060421-v1', 'GW200302_015811-v1', 'GW200306_093714-v1', 'GW200308_173609-v1', 'GW200311_115853-v1', 'GW200316_215756-v1', 'GW200322_091133-v1']\n"
     ]
    }
   ],
   "source": [
    "O3b1_events = datasets.find_datasets(type='events', catalog='GWTC-3-confident', segment=run_segment('O3b_4KHZ_R1'))\n",
    "print(O3b1_events)"
   ]
  },
  {
   "cell_type": "code",
   "execution_count": 25,
   "metadata": {},
   "outputs": [
    {
     "name": "stdout",
     "output_type": "stream",
     "text": [
      "35\n"
     ]
    }
   ],
   "source": [
    "print(len(O3b1_events))"
   ]
  },
  {
   "cell_type": "code",
   "execution_count": 28,
   "metadata": {},
   "outputs": [
    {
     "ename": "ValueError",
     "evalue": "Could not parse select string: 30 <= network-matched-filter-snr  ",
     "output_type": "error",
     "traceback": [
      "\u001b[1;31m---------------------------------------------------------------------------\u001b[0m",
      "\u001b[1;31mValueError\u001b[0m                                Traceback (most recent call last)",
      "Cell \u001b[1;32mIn[28], line 2\u001b[0m\n\u001b[0;32m      1\u001b[0m \u001b[38;5;28;01mfrom\u001b[39;00m \u001b[38;5;21;01mgwosc\u001b[39;00m\u001b[38;5;21;01m.\u001b[39;00m\u001b[38;5;21;01mdatasets\u001b[39;00m \u001b[38;5;28;01mimport\u001b[39;00m query_events\n\u001b[1;32m----> 2\u001b[0m selection \u001b[38;5;241m=\u001b[39m \u001b[43mquery_events\u001b[49m\u001b[43m(\u001b[49m\u001b[43mselect\u001b[49m\u001b[38;5;241;43m=\u001b[39;49m\u001b[43m[\u001b[49m\u001b[38;5;124;43m\"\u001b[39;49m\u001b[38;5;124;43m30 <= network-matched-filter-snr  \u001b[39;49m\u001b[38;5;124;43m\"\u001b[39;49m\u001b[43m]\u001b[49m\u001b[43m)\u001b[49m\n\u001b[0;32m      3\u001b[0m \u001b[38;5;66;03m#this is equivalent to \u001b[39;00m\n\u001b[0;32m      4\u001b[0m \u001b[38;5;66;03m#query_events(select=[\"network-matched-filter-snr <= 30\", \"network-matched-filter-snr>= 25\"])\u001b[39;00m\n\u001b[0;32m      5\u001b[0m \u001b[38;5;28mprint\u001b[39m(selection)\n",
      "File \u001b[1;32mc:\\Users\\Tanmayii\\AppData\\Local\\Programs\\Python\\Python311\\Lib\\site-packages\\gwosc\\datasets.py:652\u001b[0m, in \u001b[0;36mquery_events\u001b[1;34m(select, host)\u001b[0m\n\u001b[0;32m    601\u001b[0m \u001b[38;5;28;01mdef\u001b[39;00m \u001b[38;5;21mquery_events\u001b[39m(select, host\u001b[38;5;241m=\u001b[39mapi\u001b[38;5;241m.\u001b[39mDEFAULT_URL):\n\u001b[0;32m    602\u001b[0m \u001b[38;5;250m    \u001b[39m\u001b[38;5;124;03m\"\"\"Return a list of events filtered by the parameters in `select`\u001b[39;00m\n\u001b[0;32m    603\u001b[0m \n\u001b[0;32m    604\u001b[0m \u001b[38;5;124;03m    Parameters\u001b[39;00m\n\u001b[1;32m   (...)\u001b[0m\n\u001b[0;32m    649\u001b[0m \u001b[38;5;124;03m    https://www.gwosc.org/apidocs/#event5\u001b[39;00m\n\u001b[0;32m    650\u001b[0m \u001b[38;5;124;03m    \"\"\"\u001b[39;00m\n\u001b[0;32m    651\u001b[0m     \u001b[38;5;28;01mreturn\u001b[39;00m \u001b[38;5;28mlist\u001b[39m(\n\u001b[1;32m--> 652\u001b[0m         \u001b[43mapi\u001b[49m\u001b[38;5;241;43m.\u001b[39;49m\u001b[43mfetch_filtered_events_json\u001b[49m\u001b[43m(\u001b[49m\n\u001b[0;32m    653\u001b[0m \u001b[43m            \u001b[49m\u001b[43mselect\u001b[49m\u001b[38;5;241;43m=\u001b[39;49m\u001b[43mselect\u001b[49m\u001b[43m,\u001b[49m\n\u001b[0;32m    654\u001b[0m \u001b[43m            \u001b[49m\u001b[43mhost\u001b[49m\u001b[38;5;241;43m=\u001b[39;49m\u001b[43mhost\u001b[49m\u001b[43m,\u001b[49m\n\u001b[0;32m    655\u001b[0m \u001b[43m        \u001b[49m\u001b[43m)\u001b[49m[\u001b[38;5;124m\"\u001b[39m\u001b[38;5;124mevents\u001b[39m\u001b[38;5;124m\"\u001b[39m]\u001b[38;5;241m.\u001b[39mkeys()\n\u001b[0;32m    656\u001b[0m     )\n",
      "File \u001b[1;32mc:\\Users\\Tanmayii\\AppData\\Local\\Programs\\Python\\Python311\\Lib\\site-packages\\gwosc\\api.py:403\u001b[0m, in \u001b[0;36mfetch_filtered_events_json\u001b[1;34m(select, host)\u001b[0m\n\u001b[0;32m    374\u001b[0m \u001b[38;5;28;01mdef\u001b[39;00m \u001b[38;5;21mfetch_filtered_events_json\u001b[39m(select, host\u001b[38;5;241m=\u001b[39mDEFAULT_URL):\n\u001b[0;32m    375\u001b[0m \u001b[38;5;250m    \u001b[39m\u001b[38;5;124;03m\"\"\"\"Return the JSON metadata for the events constrained by select\u001b[39;00m\n\u001b[0;32m    376\u001b[0m \n\u001b[0;32m    377\u001b[0m \u001b[38;5;124;03m    Parameters\u001b[39;00m\n\u001b[1;32m   (...)\u001b[0m\n\u001b[0;32m    401\u001b[0m \u001b[38;5;124;03m    ... )\u001b[39;00m\n\u001b[0;32m    402\u001b[0m \u001b[38;5;124;03m    \"\"\"\u001b[39;00m\n\u001b[1;32m--> 403\u001b[0m     \u001b[38;5;28;01mreturn\u001b[39;00m fetch_json(\u001b[43m_query_events_url\u001b[49m\u001b[43m(\u001b[49m\u001b[43mselect\u001b[49m\u001b[43m,\u001b[49m\u001b[43m \u001b[49m\u001b[43mhost\u001b[49m\u001b[38;5;241;43m=\u001b[39;49m\u001b[43mhost\u001b[49m\u001b[43m)\u001b[49m)\n",
      "File \u001b[1;32mc:\\Users\\Tanmayii\\AppData\\Local\\Programs\\Python\\Python311\\Lib\\site-packages\\gwosc\\api.py:370\u001b[0m, in \u001b[0;36m_query_events_url\u001b[1;34m(select, host)\u001b[0m\n\u001b[0;32m    368\u001b[0m \u001b[38;5;28;01mdef\u001b[39;00m \u001b[38;5;21m_query_events_url\u001b[39m(select, host\u001b[38;5;241m=\u001b[39mDEFAULT_URL):\n\u001b[0;32m    369\u001b[0m     \u001b[38;5;28;01mreturn\u001b[39;00m \u001b[38;5;124m\"\u001b[39m\u001b[38;5;132;01m{}\u001b[39;00m\u001b[38;5;124m/eventapi/json/query/show?\u001b[39m\u001b[38;5;132;01m{}\u001b[39;00m\u001b[38;5;124m\"\u001b[39m\u001b[38;5;241m.\u001b[39mformat(\n\u001b[1;32m--> 370\u001b[0m         host, \u001b[43m_select_to_query\u001b[49m\u001b[43m(\u001b[49m\u001b[43mselect\u001b[49m\u001b[43m,\u001b[49m\u001b[43m \u001b[49m\u001b[43mhost\u001b[49m\u001b[38;5;241;43m=\u001b[39;49m\u001b[43mhost\u001b[49m\u001b[43m)\u001b[49m\n\u001b[0;32m    371\u001b[0m     )\n",
      "File \u001b[1;32mc:\\Users\\Tanmayii\\AppData\\Local\\Programs\\Python\\Python311\\Lib\\site-packages\\gwosc\\api.py:364\u001b[0m, in \u001b[0;36m_select_to_query\u001b[1;34m(select, host)\u001b[0m\n\u001b[0;32m    362\u001b[0m             \u001b[38;5;28;01mbreak\u001b[39;00m\n\u001b[0;32m    363\u001b[0m     \u001b[38;5;28;01melse\u001b[39;00m:\n\u001b[1;32m--> 364\u001b[0m         \u001b[38;5;28;01mraise\u001b[39;00m \u001b[38;5;167;01mValueError\u001b[39;00m(\u001b[38;5;124mf\u001b[39m\u001b[38;5;124m\"\u001b[39m\u001b[38;5;124mCould not parse select string: \u001b[39m\u001b[38;5;132;01m{\u001b[39;00ms\u001b[38;5;132;01m}\u001b[39;00m\u001b[38;5;124m\"\u001b[39m)\n\u001b[0;32m    365\u001b[0m \u001b[38;5;28;01mreturn\u001b[39;00m urlencode(queries)\n",
      "\u001b[1;31mValueError\u001b[0m: Could not parse select string: 30 <= network-matched-filter-snr  "
     ]
    }
   ],
   "source": [
    "from gwosc.datasets import query_events\n",
    "selection = query_events(select=[\"30 <= network-matched-filter-snr  \"])\n",
    "#this is equivalent to \n",
    "#query_events(select=[\"network-matched-filter-snr <= 30\", \"network-matched-filter-snr>= 25\"])\n",
    "print(selection)"
   ]
  }
 ],
 "metadata": {
  "colab": {
   "name": "Tuto 1.1 Discovering Open Data.ipynb",
   "provenance": []
  },
  "kernelspec": {
   "display_name": "Python 3 (ipykernel)",
   "language": "python",
   "name": "python3"
  },
  "language_info": {
   "codemirror_mode": {
    "name": "ipython",
    "version": 3
   },
   "file_extension": ".py",
   "mimetype": "text/x-python",
   "name": "python",
   "nbconvert_exporter": "python",
   "pygments_lexer": "ipython3",
   "version": "3.11.5"
  }
 },
 "nbformat": 4,
 "nbformat_minor": 4
}
