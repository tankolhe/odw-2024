{
 "cells": [
  {
   "cell_type": "markdown",
   "metadata": {
    "Collapsed": "false",
    "colab_type": "text",
    "id": "d9O1zsAO1zul"
   },
   "source": [
    "<span style=\"float: left;padding: 1.3em\">![logo](../logo.png)</span>\n",
    "\n",
    "#  Gravitational Wave Open Data Workshop #7\n",
    "\n",
    "\n",
    "## Tutorial 2.2 PyCBC Tutorial, Matched Filtering in Action\n",
    "\n",
    "We will be using the [PyCBC](http://github.com/ligo-cbc/pycbc) library, which is used to study gravitational-wave data, find astrophysical sources due to compact binary mergers, and study their parameters. These are some of the same tools that the LIGO and Virgo collaborations use to find gravitational waves in LIGO/Virgo data \n",
    "\n",
    "In this tutorial we will walk through how find a specific signal in LIGO data. We present matched filtering in PyCBC, which is optimal in the case of Gaussian noise and a known signal model. In reality our noise is not entirely Gaussian, and in practice we use a variety of techniques to separate signals from noise in addition to the use of the matched filter. \n",
    "\n",
    "[Click this link to view this tutorial in Google Colaboratory](https://colab.research.google.com/github/gw-odw/odw-2024/blob/main/Tutorials/Day_2/Tuto_2.2_Matched_Filtering_In_action.ipynb)\n",
    "\n",
    "Additional [examples](http://pycbc.org/pycbc/latest/html/#library-examples-and-interactive-tutorials) and module level documentation are [here](http://pycbc.org/pycbc/latest/html/py-modindex.html)"
   ]
  },
  {
   "cell_type": "markdown",
   "metadata": {
    "Collapsed": "false",
    "colab_type": "text",
    "id": "chV5GUKV1zup"
   },
   "source": [
    "## Installation (execute only if running on a cloud platform!)"
   ]
  },
  {
   "cell_type": "code",
   "execution_count": null,
   "metadata": {
    "Collapsed": "false",
    "colab": {
     "base_uri": "https://localhost:8080/",
     "height": 1000
    },
    "colab_type": "code",
    "id": "hPydO5B_1zuq",
    "outputId": "e752e5f2-dbec-4b3b-f23b-c751dbe71d91",
    "tags": []
   },
   "outputs": [],
   "source": [
    "# -- Use the following for Google Colab\n",
    "#! pip install -q 'lalsuite==7.21' 'PyCBC==2.4.0'"
   ]
  },
  {
   "cell_type": "markdown",
   "metadata": {
    "Collapsed": "false",
    "colab_type": "text",
    "id": "KkcI-Bah1zuw"
   },
   "source": [
    "**Important:** With Google Colab, you may need to restart the runtime after running the cell above."
   ]
  },
  {
   "cell_type": "markdown",
   "metadata": {
    "Collapsed": "false",
    "colab_type": "text",
    "id": "cJ9NEh-q1zuw"
   },
   "source": [
    "## Looking for a specific signal in the data\n",
    "\n",
    "If you know what signal you are looking for in the data, then matched filtering is known to be the optimal method in Gaussian noise to extract the signal. Even when the parameters of the signal are unknown, one can test for any set of parameters one is interested in finding."
   ]
  },
  {
   "cell_type": "markdown",
   "metadata": {
    "Collapsed": "false",
    "colab_type": "text",
    "id": "4rvbMKWW1zux"
   },
   "source": [
    "### Preconditioning the Data \n",
    " \n",
    "The purpose of preconditioning data is to reduce the dynamic range of the data and to suppress low frequency behavior that can introduce numerical artefacts.\n",
    "We may also wish to reduce the sample rate of the data if high frequency content is not important.\n",
    "\n",
    "PyCBC contains an interface to the [GWOSC catalog](https://www.gw-openscience.org/eventapi/), so you can easily access the data and parameters of the published gravitational-wave signals."
   ]
  },
  {
   "cell_type": "code",
   "execution_count": null,
   "metadata": {
    "Collapsed": "false",
    "colab": {
     "base_uri": "https://localhost:8080/",
     "height": 290
    },
    "colab_type": "code",
    "id": "8VSW4sca1zuy",
    "outputId": "5bce84a1-1cd0-40d9-ffc3-c10814e3cb9c",
    "tags": []
   },
   "outputs": [],
   "source": [
    "import pylab\n",
    "from pycbc.catalog import Merger\n",
    "from pycbc.filter import resample_to_delta_t, highpass\n",
    "\n",
    "# As an example we use the GW150914 data\n",
    "merger = Merger(\"GW150914\")\n",
    "\n",
    "# Get the data from the Hanford detector\n",
    "strain = merger.strain('H1')\n",
    "\n",
    "# Remove the low frequency content and downsample the data to 2048Hz\n",
    "strain = highpass(strain, 15.0)\n",
    "strain = resample_to_delta_t(strain, 1.0/2048)\n",
    "\n",
    "pylab.plot(strain.sample_times, strain)\n",
    "pylab.xlabel('Time (s)')\n",
    "pylab.show()"
   ]
  },
  {
   "cell_type": "markdown",
   "metadata": {
    "Collapsed": "false",
    "colab_type": "text",
    "id": "sHJcsujM1zu1"
   },
   "source": [
    "_Note_: To read data from a local file instead of from the GWOSC server, we can use the [`pycbc.frame.read_frame(file, channel_name)`](https://github.com/gwastro/pycbc/blob/master/docs/frame.rst) method."
   ]
  },
  {
   "cell_type": "markdown",
   "metadata": {
    "Collapsed": "false",
    "colab_type": "text",
    "id": "qqXqAIMx1zu2"
   },
   "source": [
    "### Filter Wraparound \n",
    "\n",
    "Note the spike in the data at the boundaries. This is caused by the highpass and resampling stages filtering the data. When the filter is applied to the boundaries, it wraps around to the beginning of the data. Since the data itself has a discontinuity (i.e. it is not cyclic) the filter itself will ring off for a time up to the length of the filter. \n",
    "\n",
    "Even if a visible transient is not seen, we want to avoid filters that act on times which are not causally connected. To avoid this, we trim the ends of the data sufficiently to ensure that they do not wrap around the input. We will enforce this requirement in all steps of our filtering."
   ]
  },
  {
   "cell_type": "code",
   "execution_count": null,
   "metadata": {
    "Collapsed": "false",
    "colab": {
     "base_uri": "https://localhost:8080/",
     "height": 290
    },
    "colab_type": "code",
    "id": "nthrNAfz1zu2",
    "outputId": "ccc96393-caca-498b-d419-b68aa0c61bc2",
    "tags": []
   },
   "outputs": [],
   "source": [
    "# Remove 2 seconds of data from both the beginning and end\n",
    "conditioned = strain.crop(2, 2)\n",
    "\n",
    "pylab.plot(conditioned.sample_times, conditioned)\n",
    "pylab.xlabel('Time (s)')\n",
    "pylab.show()"
   ]
  },
  {
   "cell_type": "markdown",
   "metadata": {
    "Collapsed": "false",
    "colab_type": "text",
    "id": "1oVFXwS-1zu5"
   },
   "source": [
    "### Calculate the Power Spectral Density\n",
    "\n",
    "Optimal matched filtering requires weighting the frequency components of the potential signal and data by the noise amplitude. We can view this as filtering the data with the time series equivalent of 1 / PSD. To ensure that we can control the effective length of the filter, we window the time domain equivalent of the PSD to a specific length. This has the effect of losing some information about line behavior in the detector. However, since our signals span a large frequency range, and lines are narrow, this is a negligible effect.\n",
    "\n",
    "**Important note:** Computing a PSD from data that might contain signals, non-Gaussianities and non-stationarities is not trivial. In this example we use Welch's method to obtain a PSD estimate. PyCBC's PSD module contains tools for measuring PSDs, or directly using pre-generated PSDs."
   ]
  },
  {
   "cell_type": "code",
   "execution_count": null,
   "metadata": {
    "Collapsed": "false",
    "colab": {},
    "colab_type": "code",
    "id": "lBNv_Jod1zu5",
    "tags": []
   },
   "outputs": [],
   "source": [
    "from pycbc.psd import interpolate, inverse_spectrum_truncation\n",
    "# Estimate the power spectral density\n",
    "\n",
    "# We use 4 second samples of our time series in Welch method.\n",
    "psd = conditioned.psd(4)\n",
    "\n",
    "# Now that we have the psd we need to interpolate it to match our data\n",
    "# and then limit the filter length of 1 / PSD. After this, we can\n",
    "# directly use this PSD to filter the data in a controlled manner\n",
    "psd = interpolate(psd, conditioned.delta_f)\n",
    "\n",
    "# 1/PSD will now act as a filter with an effective length of 4 seconds\n",
    "# Since the data has been highpassed above 15 Hz, and will have low values\n",
    "# below this we need to inform the function to not include frequencies\n",
    "# below this frequency. \n",
    "psd = inverse_spectrum_truncation(psd, int(4 * conditioned.sample_rate),\n",
    "                                  low_frequency_cutoff=15)"
   ]
  },
  {
   "cell_type": "markdown",
   "metadata": {
    "Collapsed": "false",
    "colab_type": "text",
    "id": "ScKiCSQv1zu7"
   },
   "source": [
    "### Make your Signal Model\n",
    "\n",
    "Conceptually, matched filtering involves laying the potential signal over your data and integrating (after weighting frequencies correctly).\n",
    "If there is a signal in the data that aligns with your \"template\", you will get a large value when integrated over.\n",
    "\n",
    "In this case we \"know\" what the signal parameters are. In a real search we would grid over the parameters and calculate the SNR time series for each one.\n",
    "\n",
    "We will assume equal masses, and non-rotating black holes which is within the posterior probability of GW150914."
   ]
  },
  {
   "cell_type": "code",
   "execution_count": null,
   "metadata": {
    "tags": []
   },
   "outputs": [],
   "source": [
    "from pycbc.waveform import get_td_waveform\n",
    "\n",
    "m = 36 # Solar masses\n",
    "hp, hc = get_td_waveform(approximant=\"SEOBNRv4_opt\",\n",
    "                     mass1=m,\n",
    "                     mass2=m,\n",
    "                     delta_t=conditioned.delta_t,\n",
    "                     f_lower=20)\n",
    "\n",
    "# Resize the vector to match our data\n",
    "hp.resize(len(conditioned))"
   ]
  },
  {
   "cell_type": "markdown",
   "metadata": {},
   "source": [
    "The waveform begins at the start of the vector, so if we want the SNR time series to correspond to the approximate merger location, we need to shift the data so that the merger is approximately at the first bin of the data.\n",
    "\n",
    "The `cyclic_time_shift` method shifts the timeseries by a given amount of time.\n",
    "It treats the data as if it were on a ring so points shifted off the end of the series reappear at the start. \n",
    "\n",
    "Note that time stamps are *not* in general affected (as the start time of the full array is shifted), but the index of each point in the vector is.\n",
    "\n",
    "By convention, waveforms returned from `get_td_waveform` have their merger stamped with time zero, so we can use the start time to shift the merger into position."
   ]
  },
  {
   "cell_type": "code",
   "execution_count": null,
   "metadata": {
    "Collapsed": "false",
    "colab": {
     "base_uri": "https://localhost:8080/",
     "height": 591
    },
    "colab_type": "code",
    "id": "iDa3oHLc1zu8",
    "outputId": "72c63d8a-2611-47a1-bb6f-9fb5eb409a84",
    "tags": []
   },
   "outputs": [],
   "source": [
    "# Let's plot the signal before and after shifting\n",
    "\n",
    "pylab.figure()\n",
    "pylab.title('Before shifting')\n",
    "pylab.plot(hp.sample_times, hp)\n",
    "pylab.xlabel('Time (s)')\n",
    "pylab.ylabel('Strain')\n",
    "\n",
    "template = hp.cyclic_time_shift(hp.start_time)\n",
    "\n",
    "pylab.figure()\n",
    "pylab.title('After shifting')\n",
    "pylab.plot(template.sample_times, template)\n",
    "pylab.xlabel('Time (s)')\n",
    "pylab.ylabel('Strain')\n",
    "pylab.show()"
   ]
  },
  {
   "cell_type": "markdown",
   "metadata": {
    "Collapsed": "false",
    "colab_type": "text",
    "id": "eq3a8qI71zvB"
   },
   "source": [
    "### Calculating the Signal-to-Noise Time Series\n",
    "\n",
    "In this section we will calculate the signal-to-noise time series for our template.\n",
    "We'll take care to handle issues of filter corruption / wraparound by truncating the output time series.\n",
    "We need to account for both the length of the template and 1 / PSD."
   ]
  },
  {
   "cell_type": "code",
   "execution_count": null,
   "metadata": {
    "Collapsed": "false",
    "colab": {
     "base_uri": "https://localhost:8080/",
     "height": 297
    },
    "colab_type": "code",
    "id": "5D-a0-iu1zvC",
    "outputId": "0b1c8b8a-ebbf-4007-f46f-9ea24a6a0982",
    "scrolled": true,
    "tags": []
   },
   "outputs": [],
   "source": [
    "from pycbc.filter import matched_filter\n",
    "import numpy\n",
    "\n",
    "snr = matched_filter(template, conditioned,\n",
    "                     psd=psd, low_frequency_cutoff=20)\n",
    "\n",
    "# Remove time corrupted by the template filter and the psd filter\n",
    "# We remove 4 seconds at the beginning and end for the PSD filtering\n",
    "# And we remove 4 additional seconds at the beginning to account for\n",
    "# the template length (this is somewhat generous for \n",
    "# so short a template). A longer signal such as from a BNS, would \n",
    "# require much more padding at the beginning of the vector.\n",
    "snr = snr.crop(4 + 4, 4)\n",
    "\n",
    "# Why are we taking an abs() here?\n",
    "# The `matched_filter` function actually returns a 'complex' SNR.\n",
    "# What that means is that the real portion corresponds to the SNR\n",
    "# associated with directly filtering the template with the data.\n",
    "# The imaginary portion corresponds to filtering with a template that\n",
    "# is 90 degrees out of phase. Since the phase of a signal may be \n",
    "# anything, we choose to maximize over the phase of the signal.\n",
    "pylab.figure(figsize=[10, 4])\n",
    "pylab.plot(snr.sample_times, abs(snr))\n",
    "pylab.ylabel('Signal-to-noise')\n",
    "pylab.xlabel('Time (s)')\n",
    "pylab.show()\n",
    "\n",
    "peak = abs(snr).numpy().argmax()\n",
    "snrp = snr[peak]\n",
    "time = snr.sample_times[peak]\n",
    "\n",
    "print(\"We found a signal at {}s with SNR {}\".format(time, abs(snrp)))"
   ]
  },
  {
   "cell_type": "markdown",
   "metadata": {
    "Collapsed": "false",
    "colab_type": "text",
    "id": "IKZl57RG1zvE"
   },
   "source": [
    "## Aligning and Subtracting the Proposed Signal\n",
    "\n",
    "In the previous section we found a peak in the signal-to-noise for a proposed binary black hole merger.\n",
    "We can use this SNR peak to align our proposal to the data, and to also subtract our proposal from the data."
   ]
  },
  {
   "cell_type": "code",
   "execution_count": null,
   "metadata": {
    "Collapsed": "false",
    "colab": {},
    "colab_type": "code",
    "id": "iP2NKJ8h1zvF",
    "tags": []
   },
   "outputs": [],
   "source": [
    "from pycbc.filter import sigma\n",
    "# The time, amplitude, and phase of the SNR peak tell us how to align\n",
    "# our proposed signal with the data.\n",
    "\n",
    "# Shift the template to the peak time\n",
    "dt = time - conditioned.start_time\n",
    "aligned = template.cyclic_time_shift(dt)\n",
    "\n",
    "# scale the template so that it would have SNR 1 in this data\n",
    "aligned /= sigma(aligned, psd=psd, low_frequency_cutoff=20.0)\n",
    "\n",
    "# Scale the template amplitude and phase to the peak value\n",
    "aligned = (aligned.to_frequencyseries() * snrp).to_timeseries()\n",
    "aligned.start_time = conditioned.start_time"
   ]
  },
  {
   "cell_type": "markdown",
   "metadata": {
    "Collapsed": "false",
    "colab_type": "text",
    "id": "QZ5rXcyC1zvH"
   },
   "source": [
    "### Visualize the Overlap Between the Signal and Data\n",
    "\n",
    "To compare the data and signal on equal footing, and to concentrate on the frequency range that is important, we will whiten both the template and the data, and then bandpass both the data and template between 30-300 Hz. In this way, any signal that is in the data is transformed in the same way that the template is."
   ]
  },
  {
   "cell_type": "code",
   "execution_count": null,
   "metadata": {
    "Collapsed": "false",
    "colab": {
     "base_uri": "https://localhost:8080/",
     "height": 224
    },
    "colab_type": "code",
    "id": "BtGiJC651zvI",
    "outputId": "680655af-d69d-4cfa-f3d1-a18266b6f206",
    "scrolled": true,
    "tags": []
   },
   "outputs": [],
   "source": [
    "# We do it this way so that we can whiten both the template and the data\n",
    "white_data = (conditioned.to_frequencyseries() / psd**0.5).to_timeseries()\n",
    "white_template = (aligned.to_frequencyseries() / psd**0.5).to_timeseries()\n",
    "\n",
    "white_data = white_data.highpass_fir(30., 512).lowpass_fir(300, 512)\n",
    "white_template = white_template.highpass_fir(30, 512).lowpass_fir(300, 512)\n",
    "\n",
    "# Select the time around the merger\n",
    "white_data = white_data.time_slice(merger.time-.2, merger.time+.1)\n",
    "white_template = white_template.time_slice(merger.time-.2, merger.time+.1)\n",
    "\n",
    "pylab.figure(figsize=[15, 3])\n",
    "pylab.plot(white_data.sample_times, white_data, label=\"Data\")\n",
    "pylab.plot(white_template.sample_times, white_template, label=\"Template\")\n",
    "pylab.legend()\n",
    "pylab.show()"
   ]
  },
  {
   "cell_type": "markdown",
   "metadata": {
    "Collapsed": "false",
    "colab_type": "text",
    "id": "rE7zEPsq1zvK"
   },
   "source": [
    "### Subtracting the Signal from the Data\n",
    "\n",
    "Now that we've aligned the template we can simply subtract it. Let's see below how that looks in the time-frequency plots!"
   ]
  },
  {
   "cell_type": "code",
   "execution_count": null,
   "metadata": {
    "Collapsed": "false",
    "colab": {
     "base_uri": "https://localhost:8080/",
     "height": 465
    },
    "colab_type": "code",
    "id": "6IwKtDRz1zvK",
    "outputId": "1821dd02-59ce-4255-bf8f-d597bdecc11b",
    "tags": []
   },
   "outputs": [],
   "source": [
    "subtracted = conditioned - aligned\n",
    "\n",
    "# Plot the original data and the subtracted signal data\n",
    "\n",
    "for data, title in [(conditioned, 'Original H1 Data'),\n",
    "                    (subtracted, 'Signal Subtracted from H1 Data')]:\n",
    "\n",
    "    t, f, p = data.whiten(4, 4).qtransform(.001, logfsteps=100, qrange=(8, 8), frange=(20, 512))\n",
    "    pylab.figure(figsize=[15, 3])\n",
    "    pylab.title(title)\n",
    "    pylab.pcolormesh(t, f, p**0.5, vmin=1, vmax=6, shading='auto')\n",
    "    pylab.yscale('log')\n",
    "    pylab.xlabel('Time (s)')\n",
    "    pylab.ylabel('Frequency (Hz)')\n",
    "    pylab.xlim(merger.time - 2, merger.time + 1)\n",
    "    pylab.show()"
   ]
  },
  {
   "cell_type": "markdown",
   "metadata": {
    "Collapsed": "false",
    "colab_type": "text",
    "id": "mTPmoPRV1zvM"
   },
   "source": [
    "## Challenge!\n",
    "\n",
    "Use the methods demonstrated above to see if you can calculate the SNR\n",
    "time series in the following data sets. What is the SNR of each signal?\n",
    "Which template matched best to which data?\n",
    "\n",
    "Information that may be useful:\n",
    "\n",
    "* Signals are all placed between 100 and 120 seconds into the frame file.\n",
    "* You may assume mass1 = mass2 (equal mass) and that each component mass is one of 15, 30, or 45.\n",
    "* Each file starts at gps time 0, and ends at gps time 128\n",
    "* The channel name in each file is \"H1:TEST-STRAIN\""
   ]
  },
  {
   "cell_type": "code",
   "execution_count": null,
   "metadata": {
    "Collapsed": "false",
    "colab": {
     "base_uri": "https://localhost:8080/",
     "height": 69
    },
    "colab_type": "code",
    "id": "SZYbZO9K1zvP",
    "outputId": "26434e05-56bf-4880-8f9d-41f27fd81f32",
    "tags": []
   },
   "outputs": [],
   "source": [
    "# Download the challenge set files\n",
    "from pycbc.frame import read_frame\n",
    "import urllib\n",
    "\n",
    "def get_file(fname):\n",
    "    url = \"https://github.com/gw-odw/odw-2024/raw/main/Tutorials/Day_2/Data/{}\"\n",
    "    url = url.format(fname)\n",
    "    urllib.request.urlretrieve(url, fname)\n",
    "    print('Getting : {}'.format(url))\n",
    "\n",
    "files = ['PyCBC_T2_0.gwf', 'PyCBC_T2_1.gwf', 'PyCBC_T2_2.gwf']\n",
    "\n",
    "for fname in files:\n",
    "    get_file(fname)\n",
    "    \n",
    "\n",
    "# An example of how to read the data from these files:\n",
    "file_name = \"PyCBC_T2_0.gwf\"\n",
    "\n",
    "# LOSC bulk data typically uses the same convention for internal channels names\n",
    "# Strain is typically IFO:LOSC-STRAIN, where IFO can be H1/L1/V1.\n",
    "channel_name = \"H1:TEST-STRAIN\"\n",
    "\n",
    "start = 0\n",
    "end = start + 128\n",
    "\n",
    "ts = read_frame(file_name, channel_name, start, end)"
   ]
  },
  {
   "cell_type": "code",
   "execution_count": 40,
   "metadata": {},
   "outputs": [],
   "source": [
    "file2 = read_frame(\"PyCBC_T2_2.gwf\",\"H1:TEST-STRAIN\")"
   ]
  },
  {
   "cell_type": "code",
   "execution_count": 41,
   "metadata": {},
   "outputs": [
    {
     "data": {
      "image/png": "[encoded data removed]",
      "text/plain": [
       "<Figure size 640x480 with 1 Axes>"
      ]
     },
     "metadata": {},
     "output_type": "display_data"
    }
   ],
   "source": [
    "import pylab\n",
    "from pycbc.catalog import Merger\n",
    "from pycbc.filter import resample_to_delta_t, highpass\n",
    "\n",
    "# As an example we use the GW150914 data\n",
    "#merger1 = Merger(\"file\")\n",
    "\n",
    "# Get the data from the Hanford detector\n",
    "#strain = merger.strain('H1')\n",
    "\n",
    "# Remove the low frequency content and downsample the data to 2048Hz\n",
    "strain = highpass(file2, 15.0)\n",
    "strain = resample_to_delta_t(strain, 1.0/2048)\n",
    "\n",
    "pylab.plot(strain.sample_times, strain)\n",
    "pylab.xlabel('Time (s)')\n",
    "pylab.show()"
   ]
  },
  {
   "cell_type": "code",
   "execution_count": 42,
   "metadata": {},
   "outputs": [
    {
     "data": {
      "image/png": "[encoded data removed]",
      "text/plain": [
       "<Figure size 640x480 with 1 Axes>"
      ]
     },
     "metadata": {},
     "output_type": "display_data"
    }
   ],
   "source": [
    "conditioned = strain.crop(2, 2)\n",
    "\n",
    "pylab.plot(conditioned.sample_times, conditioned)\n",
    "pylab.xlabel('Time (s)')\n",
    "pylab.show()"
   ]
  },
  {
   "cell_type": "code",
   "execution_count": 43,
   "metadata": {},
   "outputs": [],
   "source": [
    "from pycbc.psd import interpolate, inverse_spectrum_truncation\n",
    "# Estimate the power spectral density\n",
    "\n",
    "# We use 4 second samples of our time series in Welch method.\n",
    "psd = conditioned.psd(4)\n",
    "\n",
    "# Now that we have the psd we need to interpolate it to match our data\n",
    "# and then limit the filter length of 1 / PSD. After this, we can\n",
    "# directly use this PSD to filter the data in a controlled manner\n",
    "psd = interpolate(psd, conditioned.delta_f)\n",
    "\n",
    "# 1/PSD will now act as a filter with an effective length of 4 seconds\n",
    "# Since the data has been highpassed above 15 Hz, and will have low values\n",
    "# below this we need to inform the function to not include frequencies\n",
    "# below this frequency. \n",
    "psd = inverse_spectrum_truncation(psd, int(4 * conditioned.sample_rate),\n",
    "                                  low_frequency_cutoff=15)"
   ]
  },
  {
   "cell_type": "code",
   "execution_count": 52,
   "metadata": {},
   "outputs": [],
   "source": [
    "from pycbc.waveform import get_td_waveform\n",
    "\n",
    "m = 45 # Solar masses\n",
    "hp, hc = get_td_waveform(approximant=\"SEOBNRv4_opt\",\n",
    "                     mass1=m,\n",
    "                     mass2=m,\n",
    "                     delta_t=conditioned.delta_t,\n",
    "                     f_lower=20)\n",
    "\n",
    "# Resize the vector to match our data\n",
    "hp.resize(len(conditioned))"
   ]
  },
  {
   "cell_type": "code",
   "execution_count": 53,
   "metadata": {},
   "outputs": [
    {
     "data": {
      "image/png": "[encoded data removed]",
      "text/plain": [
       "<Figure size 640x480 with 1 Axes>"
      ]
     },
     "metadata": {},
     "output_type": "display_data"
    },
    {
     "data": {
      "image/png": "[encoded data removed]",
      "text/plain": [
       "<Figure size 640x480 with 1 Axes>"
      ]
     },
     "metadata": {},
     "output_type": "display_data"
    }
   ],
   "source": [
    "pylab.figure()\n",
    "pylab.title('Before shifting')\n",
    "pylab.plot(hp.sample_times, hp)\n",
    "pylab.xlabel('Time (s)')\n",
    "pylab.ylabel('Strain')\n",
    "\n",
    "template = hp.cyclic_time_shift(hp.start_time)\n",
    "\n",
    "pylab.figure()\n",
    "pylab.title('After shifting')\n",
    "pylab.plot(template.sample_times, template)\n",
    "pylab.xlabel('Time (s)')\n",
    "pylab.ylabel('Strain')\n",
    "pylab.show()"
   ]
  },
  {
   "cell_type": "code",
   "execution_count": 54,
   "metadata": {},
   "outputs": [
    {
     "data": {
      "image/png": "[encoded data removed]",
      "text/plain": [
       "<Figure size 1000x400 with 1 Axes>"
      ]
     },
     "metadata": {},
     "output_type": "display_data"
    },
    {
     "name": "stdout",
     "output_type": "stream",
     "text": [
      "We found a signal at 61.595703125s with SNR 4.585612617866603\n"
     ]
    }
   ],
   "source": [
    "from pycbc.filter import matched_filter\n",
    "import numpy\n",
    "\n",
    "snr = matched_filter(template, conditioned,\n",
    "                     psd=psd, low_frequency_cutoff=20)\n",
    "\n",
    "# Remove time corrupted by the template filter and the psd filter\n",
    "# We remove 4 seconds at the beginning and end for the PSD filtering\n",
    "# And we remove 4 additional seconds at the beginning to account for\n",
    "# the template length (this is somewhat generous for \n",
    "# so short a template). A longer signal such as from a BNS, would \n",
    "# require much more padding at the beginning of the vector.\n",
    "snr = snr.crop(4 + 4, 4)\n",
    "\n",
    "# Why are we taking an abs() here?\n",
    "# The `matched_filter` function actually returns a 'complex' SNR.\n",
    "# What that means is that the real portion corresponds to the SNR\n",
    "# associated with directly filtering the template with the data.\n",
    "# The imaginary portion corresponds to filtering with a template that\n",
    "# is 90 degrees out of phase. Since the phase of a signal may be \n",
    "# anything, we choose to maximize over the phase of the signal.\n",
    "pylab.figure(figsize=[10, 4])\n",
    "pylab.plot(snr.sample_times, abs(snr))\n",
    "pylab.ylabel('Signal-to-noise')\n",
    "pylab.xlabel('Time (s)')\n",
    "pylab.show()\n",
    "\n",
    "peak = abs(snr).numpy().argmax()\n",
    "snrp = snr[peak]\n",
    "time = snr.sample_times[peak]\n",
    "\n",
    "print(\"We found a signal at {}s with SNR {}\".format(time, abs(snrp)))"
   ]
  },
  {
   "cell_type": "code",
   "execution_count": 48,
   "metadata": {},
   "outputs": [],
   "source": [
    "from pycbc.filter import sigma\n",
    "# The time, amplitude, and phase of the SNR peak tell us how to align\n",
    "# our proposed signal with the data.\n",
    "\n",
    "# Shift the template to the peak time\n",
    "dt = time - conditioned.start_time\n",
    "aligned = template.cyclic_time_shift(dt)\n",
    "\n",
    "# scale the template so that it would have SNR 1 in this data\n",
    "aligned /= sigma(aligned, psd=psd, low_frequency_cutoff=20.0)\n",
    "\n",
    "# Scale the template amplitude and phase to the peak value\n",
    "aligned = (aligned.to_frequencyseries() * snrp).to_timeseries()\n",
    "aligned.start_time = conditioned.start_time"
   ]
  }
 ],
 "metadata": {
  "colab": {
   "name": "Tuto_2.2_Matched_Filtering_In_action.ipynb",
   "provenance": []
  },
  "kernelspec": {
   "display_name": "Python 3",
   "language": "python",
   "name": "python3"
  },
  "language_info": {
   "codemirror_mode": {
    "name": "ipython",
    "version": 3
   },
   "file_extension": ".py",
   "mimetype": "text/x-python",
   "name": "python",
   "nbconvert_exporter": "python",
   "pygments_lexer": "ipython3",
   "version": "3.9.19"
  }
 },
 "nbformat": 4,
 "nbformat_minor": 4
}
